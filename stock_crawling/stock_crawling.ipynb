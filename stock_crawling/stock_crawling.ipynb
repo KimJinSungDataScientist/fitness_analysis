{
 "cells": [
  {
   "cell_type": "code",
   "execution_count": 1,
   "id": "c35463b6",
   "metadata": {},
   "outputs": [],
   "source": [
    "import FinanceDataReader as fdr\n",
    "import pandas as pd"
   ]
  },
  {
   "cell_type": "code",
   "execution_count": 2,
   "id": "55b4d572",
   "metadata": {},
   "outputs": [],
   "source": [
    "ls = ['코스피','코스닥','네이버','카카오','삼성전자']\n",
    "ls2 = ['KS11','KQ11','035420','035720','005930']"
   ]
  },
  {
   "cell_type": "code",
   "execution_count": 3,
   "id": "b3b3f88c",
   "metadata": {},
   "outputs": [],
   "source": [
    "def name_plus(x,y):\n",
    "    ls = []\n",
    "    for i in x:\n",
    "        ls.append(y+'_'+i)\n",
    "        \n",
    "    return ls"
   ]
  },
  {
   "cell_type": "code",
   "execution_count": 4,
   "id": "00225705",
   "metadata": {},
   "outputs": [],
   "source": [
    "df = pd.DataFrame()\n",
    "\n",
    "for i,j in zip(ls,ls2):\n",
    "    temp_df = fdr.DataReader(j,'2021')\n",
    "    col = temp_df.columns.to_list()\n",
    "    \n",
    "    col = name_plus(col,i)\n",
    "    temp_df.columns = col\n",
    "    \n",
    "    df = pd.concat([df,temp_df],axis=1)"
   ]
  },
  {
   "cell_type": "code",
   "execution_count": 5,
   "id": "3bc444f1",
   "metadata": {},
   "outputs": [],
   "source": [
    "df.to_csv('stock.csv',encoding='cp949',index=False)"
   ]
  }
 ],
 "metadata": {
  "kernelspec": {
   "display_name": "Python 3",
   "language": "python",
   "name": "python3"
  },
  "language_info": {
   "codemirror_mode": {
    "name": "ipython",
    "version": 3
   },
   "file_extension": ".py",
   "mimetype": "text/x-python",
   "name": "python",
   "nbconvert_exporter": "python",
   "pygments_lexer": "ipython3",
   "version": "3.8.8"
  }
 },
 "nbformat": 4,
 "nbformat_minor": 5
}
